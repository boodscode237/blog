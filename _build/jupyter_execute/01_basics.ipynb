{
 "cells": [
  {
   "cell_type": "markdown",
   "metadata": {
    "id": "tuUovR1zXcJW"
   },
   "source": [
    "# **Python Basics : Variables, Chaîne de caractères, Nombres et Commentaires.**"
   ]
  },
  {
   "cell_type": "markdown",
   "metadata": {
    "id": "WOxGMTxXZm8J"
   },
   "source": [
    "## Introduction\n",
    "\n",
    "Ce tutoriel vous présente les bases du langage de programmation Python, en commençant par les types de données fondamentaux tels que les nombres et les chaînes de caractères. Vous apprendrez également à créer et utiliser des variables pour stocker des données, et à ajouter des commentaires à votre code pour le rendre plus lisible.\n",
    "\n",
    "Ce que vous apprendrez\n",
    "\n",
    " - Les différents types de données en Python\n",
    " - Comment créer et utiliser des variables\n",
    " - Les conventions de nommage des variables\n",
    " - Comment ajouter des commentaires à votre code\n",
    "\n",
    "Commençons !"
   ]
  },
  {
   "cell_type": "markdown",
   "metadata": {
    "id": "5v130iFtb8Dd"
   },
   "source": [
    "Nous allons d’abord écrire et exécuter notre première ligne de code en utilisant python.\n",
    "\n",
    "```\n",
    "print(\"Salut le Monde\")\n",
    "```\n",
    "\n",
    "Votre éditeur exécute ce bloc de code via l’interpréteur Python, qui lit le programme et détermine ce que chaque mot du programme signifie. Par exemple, lorsque l’interprète voit le mot **print** suivi de parenthèses, il affiche à l’écran ce qui se trouve entre parenthèses."
   ]
  },
  {
   "cell_type": "code",
   "execution_count": 1,
   "metadata": {
    "colab": {
     "base_uri": "https://localhost:8080/"
    },
    "id": "70odpxOXb7eR",
    "outputId": "1aaf3a19-fbb8-4b93-e6b5-795c94e35626"
   },
   "outputs": [
    {
     "name": "stdout",
     "output_type": "stream",
     "text": [
      "Salut le Monde\n"
     ]
    }
   ],
   "source": [
    "print(\"Salut le Monde\")"
   ]
  },
  {
   "cell_type": "markdown",
   "metadata": {
    "id": "YgxeibuHbw6m"
   },
   "source": [
    "## **Variables**"
   ]
  },
  {
   "cell_type": "markdown",
   "metadata": {
    "id": "zBBj4KcqdWCn"
   },
   "source": [
    "Essayons d’utiliser une variable dans notre code. Ajouter une nouvelle ligne au début du fichier, et modifier la deuxième ligne\n",
    "\n",
    "```\n",
    "message = \"Bonjour le monde Python!\"\n",
    "print(message)\n",
    "```"
   ]
  },
  {
   "cell_type": "code",
   "execution_count": 2,
   "metadata": {
    "colab": {
     "base_uri": "https://localhost:8080/"
    },
    "id": "l8YGLA6nUOGu",
    "outputId": "84c6ff13-2d71-4ec0-fde8-83424cd9f96d"
   },
   "outputs": [
    {
     "name": "stdout",
     "output_type": "stream",
     "text": [
      "Bonjour le monde Python!\n"
     ]
    }
   ],
   "source": [
    "message = \"Bonjour le monde Python!\"\n",
    "print(message)"
   ]
  },
  {
   "cell_type": "markdown",
   "metadata": {
    "id": "YjQ5HeYLe-px"
   },
   "source": [
    "Nous avons ajouté une variable nommée message. Chaque variable est liée à une valeur, qui est l’information associée à cette variable. Dans ce cas, la valeur est le texte \"**Bonjour le monde Python!**\".\n",
    "\n",
    "L’ajout d’une variable rend un peu plus de travail pour l’interpréteur Python. Quand il traite la première ligne, il associe le message variable avec le texte \"**Bonjour le monde Python!**\". Quand il atteint la deuxième ligne, il affiche la valeur associée au message à l’écran.\n",
    "\n",
    "Ajoutons deux nouvelles lignes de code :\n",
    "\n",
    "```\n",
    "message = \"Bonjour mon nom est Brice !\"\n",
    "print(message)\n",
    "```"
   ]
  },
  {
   "cell_type": "code",
   "execution_count": 3,
   "metadata": {
    "colab": {
     "base_uri": "https://localhost:8080/"
    },
    "id": "9lhcuYD4dlHi",
    "outputId": "bd116cbb-1974-4bfa-b376-ad5ebd4b470e"
   },
   "outputs": [
    {
     "name": "stdout",
     "output_type": "stream",
     "text": [
      "Bonjour le monde Python!\n",
      "Bonjour mon nom est Brice !\n"
     ]
    }
   ],
   "source": [
    "message = \"Bonjour le monde Python!\"\n",
    "print(message)\n",
    "\n",
    "message = \"Bonjour mon nom est Brice !\"\n",
    "print(message)"
   ]
  },
  {
   "cell_type": "markdown",
   "metadata": {
    "id": "xEWxYf4hiRY3"
   },
   "source": [
    "### **Noms de variables**"
   ]
  },
  {
   "cell_type": "markdown",
   "metadata": {
    "id": "1lXDlEzmjrJj"
   },
   "source": [
    "Vous pouvez nommer une variable n’importe quoi, pourvu qu’elle respecte les trois règles suivantes :\n",
    "1. Elle ne peut s’agir que d’un seul mot.\n",
    "2. Elle ne peut utiliser que des lettres, des chiffres et le caractère de soulignement (_).\n",
    "3. Elle ne peut pas commencer par un chiffre.\n",
    "\n",
    "\n",
    " **Noms de variables valides et non valides**\n",
    "\n",
    "|Nom de variable valide\t| Nom de variable invalide |\n",
    "|---|---|\n",
    "|etudiant\t| nom-etudiant (les tirets ne sont pas autorisés)|\n",
    "|nomEtudiant\t| nom eltudiant (les espaces ne sont pas autorisés)|\n",
    "|nom_etudiant |\t1etudiant (ne peut pas commencer par un chiffre)|\n",
    "|_code |\t272695 (ne peut pas commencer par un chiffre)|\n",
    "| MOTDEPASSE |\tmotdepa$se (les caractères spéciaux comme $ ne sont pas autorisés)|\n",
    "|etudiant1 |\t'etudiant1' (les caractères spéciaux comme ' ne sont pas autorisés)|"
   ]
  },
  {
   "cell_type": "markdown",
   "metadata": {
    "id": "lgj6Bg4HoW3F"
   },
   "source": [
    "Il peut falloir un peu de pratique pour apprendre à créer de bons noms de variables. Au fur et à mesure que vous écrirez plus de programmes et commencerez à lire le code des autres, vous vous améliorerez à trouver des noms significatifs.\n",
    "\n",
    "for now we should use variables like this:\n",
    "```\n",
    "etudiant\n",
    "nom_etudiant\n",
    "MOTDEPASSE(rarement)\n",
    "```"
   ]
  },
  {
   "cell_type": "markdown",
   "metadata": {
    "id": "TFdlCQ-CpQJD"
   },
   "source": [
    "### **Notre premier bug 🐛: _Name Errors_**"
   ]
  },
  {
   "cell_type": "markdown",
   "metadata": {
    "id": "mruZ2wpepuFM"
   },
   "source": [
    "Chaque programmeur fait des erreurs, et la plupart font des erreurs tous les jours.\n",
    "Faisons notre première erreur."
   ]
  },
  {
   "cell_type": "code",
   "execution_count": 4,
   "metadata": {
    "colab": {
     "base_uri": "https://localhost:8080/",
     "height": 159
    },
    "id": "5W_4-HBth2EI",
    "outputId": "515fce9d-f3bf-4169-9819-fae2ec610556"
   },
   "outputs": [
    {
     "ename": "NameError",
     "evalue": "name 'phraze' is not defined",
     "output_type": "error",
     "traceback": [
      "\u001b[1;31m---------------------------------------------------------------------------\u001b[0m",
      "\u001b[1;31mNameError\u001b[0m                                 Traceback (most recent call last)",
      "Cell \u001b[1;32mIn[4], line 2\u001b[0m\n\u001b[0;32m      1\u001b[0m phrase \u001b[38;5;241m=\u001b[39m \u001b[38;5;124m\"\u001b[39m\u001b[38;5;124mJe n’imprimerai pas :)\u001b[39m\u001b[38;5;124m\"\u001b[39m\n\u001b[1;32m----> 2\u001b[0m \u001b[38;5;28mprint\u001b[39m(\u001b[43mphraze\u001b[49m)\n",
      "\u001b[1;31mNameError\u001b[0m: name 'phraze' is not defined"
     ]
    }
   ],
   "source": [
    "phrase = \"Je n’imprimerai pas :)\"\n",
    "print(phraze)"
   ]
  },
  {
   "cell_type": "markdown",
   "metadata": {
    "id": "Z7Pg1JORqss4"
   },
   "source": [
    "L’interpréteur fournit un `traceback` lorsqu’un programme ne peut pas s’exécuter avec succès. Un `traceback` est un enregistrement de l’endroit où l’interprète a rencontré des problèmes lors de l’exécution de votre code.\n",
    "\n",
    "Voici un exemple du `traceback` fourni par Python après que vous ayez accidentellement mal orthographié le nom d’une variable:\n",
    "\n",
    "```\n",
    "NameError                                 Traceback (most recent call last)\n",
    "<ipython-input-8-a2727afc6712> in <cell line: 2>()\n",
    "      1 phrase = \"Je n’imprimerai pas :)\"\n",
    "----> 2 print(phraze)\n",
    "\n",
    "NameError: name 'phraze' is not defined\n",
    "```"
   ]
  },
  {
   "cell_type": "markdown",
   "metadata": {
    "id": "KifMVaB4rjVM"
   },
   "source": [
    "La sortie signale qu’une erreur se produit à la ligne 2. L’interprète montre cette ligne pour nous aider à repérer rapidement l’erreur et nous indique quel type d’erreur elle a trouvé. IDans ce cas, il a trouvé une erreur de nom et indique que la variable imprimée, **« phraze »**, n’a pas été définie. Python ne peut pas identifier le nom de variable fourni. Une erreur de nom signifie généralement que nous avons oublié de définir la valeur d’une variable avant de l’utiliser, ou que nous avons commis une erreur d’orthographe lors de la saisie du nom de la variable.\n",
    "\n",
    "On va réparer notre code."
   ]
  },
  {
   "cell_type": "code",
   "execution_count": null,
   "metadata": {
    "colab": {
     "base_uri": "https://localhost:8080/"
    },
    "id": "SIw2qxWhqSPC",
    "outputId": "65f9b7e4-8fc7-4030-96ba-0fd41413bda6"
   },
   "outputs": [
    {
     "name": "stdout",
     "output_type": "stream",
     "text": [
      "J’imprimerai :)\n"
     ]
    }
   ],
   "source": [
    "phrase = \"J’imprimerai :)\"\n",
    "print(phrase)"
   ]
  },
  {
   "cell_type": "markdown",
   "metadata": {
    "id": "U2QJ5IXxs6wf"
   },
   "source": [
    "Les noms de variables sont sensibles à la casse, ce qui signifie que le spam, le SPAM, le spam et le sPaM sont quatre variables différentes. C’est une convention Python pour commencer vos variables avec une lettre minuscule."
   ]
  },
  {
   "cell_type": "markdown",
   "metadata": {
    "id": "Vy3_tJWktpgP"
   },
   "source": [
    "🖐🏿Une variable est comme une boîte dans la mémoire de l’ordinateur où vous pouvez stocker une seule valeur. Si vous souhaitez utiliser le résultat d’une expression évaluée plus tard dans votre vous pouvez l’enregistrer dans une variable.🖐🏿\n",
    "\n",
    "Cette idée peut être utile les premières fois que vous utilisez une variable, mais ce n’est pas une façon précise de décrire comment les variables sont représentées en interne dans Python. Il est préférable de considérer les variables comme des **étiquettes** que vous pouvez attribuer à des valeurs. Vous pouvez également dire qu’une variable fait **référence** à une certaine valeur."
   ]
  },
  {
   "cell_type": "markdown",
   "metadata": {
    "id": "RQyAzEmpwm8h"
   },
   "source": [
    "> **Exemple d'une variable comme étiquette et comme référence en Python**\n",
    "\n",
    "Supposons que nous voulons stocker la valeur de la population de la France dans une variable. Nous pouvons le faire comme ceci:\n",
    "```\n",
    "population_france = 65273111\n",
    "```\n",
    "Dans cet exemple, `population_france` est une variable qui sert d'étiquette pour la valeur 65273111. Cette valeur est stockée dans un emplacement mémoire et l'étiquette `population_france` nous permet d'y accéder.\n",
    "\n",
    "> **Variable comme référence**\n",
    "\n",
    "Lorsque nous utilisons une variable pour stocker une valeur, nous ne stockons pas la valeur elle-même dans la variable, mais plutôt une référence à l'emplacement mémoire où la valeur est stockée.\n",
    "\n",
    "Par exemple, si nous affectons la valeur de population_france à une nouvelle variable:\n",
    "```\n",
    "population_france = 65273111\n",
    "\n",
    "population_metropole = population_france\n",
    "```\n",
    "\n",
    "\n",
    "La variable `population_metropole` ne stocke pas une nouvelle copie de la valeur `65273111`. Elle stocke plutôt une référence au même emplacement mémoire que la variable `population_france`."
   ]
  },
  {
   "cell_type": "code",
   "execution_count": null,
   "metadata": {
    "id": "KCbetVLPsWZ9"
   },
   "outputs": [],
   "source": [
    "population_france = 65273111\n",
    "\n",
    "population_metropole = population_france\n"
   ]
  },
  {
   "cell_type": "markdown",
   "metadata": {
    "id": "CH_pMCge0QpU"
   },
   "source": [
    "**Essayer par vous-même**\n",
    "\n",
    "**Exercice 1:**\n",
    "\n",
    "Créez une variable pour stocker la valeur de la population de votre pays.\n",
    "\n",
    "**Exercice 2:**\n",
    "\n",
    "Créez une autre variable et affectez-lui la valeur de la variable que vous avez créée dans l'exercice 1.\n",
    "\n",
    "**Exercice 3:**\n",
    "\n",
    "Modifiez la valeur de la variable que vous avez créée dans l'exercice 1."
   ]
  },
  {
   "cell_type": "code",
   "execution_count": null,
   "metadata": {
    "id": "6Ha0gAMd2AIZ"
   },
   "outputs": [],
   "source": []
  },
  {
   "cell_type": "markdown",
   "metadata": {
    "id": "mh-rCAO23LIr"
   },
   "source": [
    "## **Chaîne de caractères**"
   ]
  },
  {
   "cell_type": "markdown",
   "metadata": {
    "id": "FKT-w3kx_VBV"
   },
   "source": [
    "En Python, les chaînes de caractères (strings) sont des séquences ordonnées d'éléments appelés caractères. Elles jouent un rôle crucial dans la manipulation de texte et constituent un élément fondamental du langage de programmation.\n",
    "\n",
    "Tout ce qui est entre guillemets est considéré comme une chaîne en Python, et vous pouvez utiliser des guillemets simples ou doubles autour des chaînes comme celle-ci:\n",
    "\n",
    "```\n",
    "'a', \"aa\", 'aaa', 'Bonjour!', \"11 chats\"\n",
    "```\n",
    "Cette flexibilité vous permet d’utiliser des guillemets et des apostrophes dans votre chaînes :\n",
    "\n",
    "```\n",
    "'Il a dit à mon ami: \"Le français est une langue populaire !\"'\n",
    "\"Le footballeur Mbappe est nommé d’après son grand-père.\"\n",
    "```"
   ]
  },
  {
   "cell_type": "markdown",
   "metadata": {
    "id": "ZMi5WtM-Bps3"
   },
   "source": [
    "### **Opérations avec chaînes**\n",
    "\n",
    "\n",
    "Python offre une large gamme d'opérations pour travailler efficacement avec les chaînes de caractères. Voici quelques exemples courants:"
   ]
  },
  {
   "cell_type": "markdown",
   "metadata": {
    "id": "24BfzF3fEk5U"
   },
   "source": [
    "#### **Indexation et découpage:**\n",
    "\n",
    "Accédez à des caractères individuels ou à des sous-chaînes en utilisant la notation d'indexation. L'indexation commence à partir de 0 (zéro).\n",
    "```\n",
    "message = \"Bienvenue dans le monde de Python!\"\n",
    "\n",
    "# Premier caractère\n",
    "premier_caractere = message[0]  # Accède à \"B\"\n",
    "\n",
    "# Sous-chaîne du deuxième au sixième caractère (exclu)\n",
    "sous_chaine = message[1:7]  # \"ienven\"\n",
    "```"
   ]
  },
  {
   "cell_type": "code",
   "execution_count": null,
   "metadata": {
    "colab": {
     "base_uri": "https://localhost:8080/"
    },
    "id": "LQ9BMuXQAVoC",
    "outputId": "b725922e-7edb-497d-a0ea-2f5907ddea08"
   },
   "outputs": [
    {
     "name": "stdout",
     "output_type": "stream",
     "text": [
      "Bienvenue dans le monde de Python!\n",
      "ienven\n"
     ]
    }
   ],
   "source": [
    "message = \"Bienvenue dans le monde de Python!\"\n",
    "\n",
    "# Premier caractère\n",
    "premier_caractere = message[0]  # Accède à \"B\"\n",
    "\n",
    "# Sous-chaîne du deuxième au sixième caractère (exclu)\n",
    "sous_chaine = message[1:7]  # \"ienven\"\n",
    "print(message)\n",
    "print(sous_chaine)"
   ]
  },
  {
   "cell_type": "markdown",
   "metadata": {
    "id": "wihUDy9FEVli"
   },
   "source": [
    "#### **Concaténation:**\n",
    "\n",
    "Combinez deux chaînes de caractères pour en former une nouvelle.\n",
    "\n",
    "```\n",
    "prenom = \"Alice\"\n",
    "nom = \"Martin\"\n",
    "\n",
    "nom_complet = prenom + \" \" + nom  # \"Alice Martin\"\n",
    "```"
   ]
  },
  {
   "cell_type": "code",
   "execution_count": null,
   "metadata": {
    "colab": {
     "base_uri": "https://localhost:8080/"
    },
    "id": "2d-pzbYKEKGh",
    "outputId": "64becafa-0017-4742-af41-4ddab88c7861"
   },
   "outputs": [
    {
     "name": "stdout",
     "output_type": "stream",
     "text": [
      "Alice Martin\n"
     ]
    }
   ],
   "source": [
    "prenom = \"Alice\"\n",
    "nom = \"Martin\"\n",
    "\n",
    "nom_complet = prenom + \" \" + nom  # \"Alice Martin\"\n",
    "print(nom_complet)"
   ]
  },
  {
   "cell_type": "markdown",
   "metadata": {
    "id": "A4vA5wwmEVgR"
   },
   "source": [
    "#### **Réplication:**\n",
    "\n",
    "Répétez une chaîne un certain nombre de fois.\n",
    "\n",
    "```\n",
    "slogan = \"Python est génial!\" * 3  # \"Python est génial!Python est génial!Python est génial!\"\n",
    "\n",
    "```"
   ]
  },
  {
   "cell_type": "code",
   "execution_count": null,
   "metadata": {
    "colab": {
     "base_uri": "https://localhost:8080/"
    },
    "id": "7UHOiANvFPEU",
    "outputId": "c6b0f730-284a-47c6-f72a-95671c87ae90"
   },
   "outputs": [
    {
     "name": "stdout",
     "output_type": "stream",
     "text": [
      "Python est génial!Python est génial!Python est génial!\n"
     ]
    }
   ],
   "source": [
    "slogan = \"Python est génial!\" * 3  # \"Python est génial!Python est génial!Python est génial!\"\n",
    "print(slogan)"
   ]
  },
  {
   "cell_type": "markdown",
   "metadata": {
    "id": "EWWkY8TtFxJC"
   },
   "source": [
    "#### **Recherche:**\n",
    "\n",
    "Localisez l'occurrence d'une sous-chaîne dans une chaîne plus grande.\n",
    "\n",
    "```\n",
    "phrase = \"Cette phrase contient le mot 'Python'.\"\n",
    "position = phrase.find(\"Python\")  # Retourne 30 (l'index de la première occurrence)\n",
    "```"
   ]
  },
  {
   "cell_type": "code",
   "execution_count": null,
   "metadata": {
    "colab": {
     "base_uri": "https://localhost:8080/"
    },
    "id": "FesXaF3OFRs-",
    "outputId": "a73d956b-9377-4edb-8c7b-8d2f43958078"
   },
   "outputs": [
    {
     "name": "stdout",
     "output_type": "stream",
     "text": [
      "30\n"
     ]
    }
   ],
   "source": [
    "phrase = \"Cette phrase contient le mot 'Python'.\"\n",
    "position = phrase.find(\"Python\")  # Retourne 30 (l'index de la première occurrence)\n",
    "print(position)"
   ]
  },
  {
   "cell_type": "markdown",
   "metadata": {
    "id": "js4lL3GIH6jL"
   },
   "source": [
    "#### **Remplacement**:\n",
    "\n",
    "Remplacez une sous-chaîne par une autre chaîne.\n",
    "```\n",
    "citation = \"Le langage Python est puissant et polyvalent.\"\n",
    "citation_modifiee = citation.replace(\"Python\", \"JavaScript\")\n",
    "```"
   ]
  },
  {
   "cell_type": "code",
   "execution_count": null,
   "metadata": {
    "colab": {
     "base_uri": "https://localhost:8080/"
    },
    "id": "eQZOrb-AIV3M",
    "outputId": "5a1a69e1-e0e8-4970-87be-33c672612fa1"
   },
   "outputs": [
    {
     "name": "stdout",
     "output_type": "stream",
     "text": [
      "Le langage JavaScript est puissant et polyvalent. JavaScript\n"
     ]
    }
   ],
   "source": [
    "citation = \"Le langage Python est puissant et polyvalent. Python\"\n",
    "citation_modifiee = citation.replace(\"Python\", \"JavaScript\")  # \"Le langage JavaScript est puissant et polyvalent.\"\n",
    "print(citation_modifiee)"
   ]
  },
  {
   "cell_type": "markdown",
   "metadata": {
    "id": "D8Yt8TfBIgT_"
   },
   "source": [
    "#### **Conversion de casse**:\n",
    "\n",
    "Convertissez les caractères d'une chaîne en majuscules, minuscules ou en une combinaison des deux.\n",
    "\n",
    "```\n",
    "titre = \"Introduction AUX opérations aveC dEs chaînes\"\n",
    "titre_majuscules = titre.upper()  # \"INTRODUCTION AUX OPERATIONS AVEC DES CHAINES\"\n",
    "titre_minuscules = titre.lower()  # \"introduction aux opérations avec des chaînes\"\n",
    "titre = titre_minuscules.title() # Introduction Aux Opérations Avec Des Chaînes\n",
    "```"
   ]
  },
  {
   "cell_type": "code",
   "execution_count": null,
   "metadata": {
    "colab": {
     "base_uri": "https://localhost:8080/"
    },
    "id": "eqc_iaCFIZvq",
    "outputId": "b077a17a-948e-42d2-9fc9-3a43fb86e448"
   },
   "outputs": [
    {
     "name": "stdout",
     "output_type": "stream",
     "text": [
      "INTRODUCTION AUX OPÉRATIONS AVEC DES CHAÎNES\n",
      "introduction aux opérations avec des chaînes\n",
      "Introduction Aux Opérations Avec Des Chaînes\n"
     ]
    }
   ],
   "source": [
    "titre = \"Introduction AUX opérations aveC dEs chaînes\"\n",
    "titre_majuscules = titre.upper()  # \"INTRODUCTION AUX OPERATIONS AVEC DES CHAINES\"\n",
    "titre_minuscules = titre.lower()  # \"introduction aux opérations avec des chaînes\"\n",
    "titre = titre_minuscules.title() # Introduction Aux Opérations Avec Des Chaînes\n",
    "print(titre_majuscules)\n",
    "print(titre_minuscules)\n",
    "print(titre)"
   ]
  },
  {
   "cell_type": "markdown",
   "metadata": {
    "id": "hMHibSZsJ0pw"
   },
   "source": [
    "#### **Suppression d'espaces superflus**:\n",
    "\n",
    "Éliminez les espaces au début et à la fin d'une chaîne.\n",
    "\n",
    "```\n",
    "salutation = \"   Bonjour à tous !   \"\n",
    "salutation_nette = salutation.strip()  # \"Bonjour à tous !\"\n",
    "espace_a_gauche = salutation.rstrip() # \" Bonjour à tous !\"\n",
    "espace_a_droite = salutation.lstrip() # \"Bonjour à tous ! \"\n",
    "print(salutation_nette)\n",
    "print(espace_a_gauche)\n",
    "print(espace_a_droite)\n",
    "```"
   ]
  },
  {
   "cell_type": "code",
   "execution_count": null,
   "metadata": {
    "colab": {
     "base_uri": "https://localhost:8080/"
    },
    "id": "RQZwX6p6MJiR",
    "outputId": "f3256fca-5f36-438a-fe40-4e37f1010740"
   },
   "outputs": [
    {
     "name": "stdout",
     "output_type": "stream",
     "text": [
      "Bonjour à tous !\n",
      "   Bonjour à tous !\n",
      "Bonjour à tous !   \n"
     ]
    }
   ],
   "source": [
    "salutation = \"   Bonjour à tous !   \"\n",
    "salutation_nette = salutation.strip()  # \"Bonjour à tous !\"\n",
    "espace_a_gauche = salutation.rstrip() # \" Bonjour à tous !\"\n",
    "espace_a_droite = salutation.lstrip() # \"Bonjour à tous ! \"\n",
    "print(salutation_nette)\n",
    "print(espace_a_gauche)\n",
    "print(espace_a_droite)"
   ]
  },
  {
   "cell_type": "markdown",
   "metadata": {
    "id": "APClwS4dLMeM"
   },
   "source": [
    "#### **Division**:\n",
    "\n",
    "Divisez une chaîne en une liste de sous-chaînes en fonction d'un séparateur.\n",
    "\n",
    "```\n",
    "ingredients = \"Farine, Sucre, Œufs, Lait\"\n",
    "liste_ingredients = ingredients.split(\", \")  # [\"Farine\", \"Sucre\", \"Œufs\", \"Lait\"]\n",
    "```\n",
    "\n"
   ]
  },
  {
   "cell_type": "code",
   "execution_count": null,
   "metadata": {
    "colab": {
     "base_uri": "https://localhost:8080/"
    },
    "id": "ZazHYG_lJHss",
    "outputId": "d19f0d96-8e7f-4542-f35c-cd90ad4fe304"
   },
   "outputs": [
    {
     "name": "stdout",
     "output_type": "stream",
     "text": [
      "['Farine', 'Sucre', 'Œufs', 'Lait']\n"
     ]
    }
   ],
   "source": [
    "ingredients = \"Farine, Sucre, Œufs, Lait\"\n",
    "liste_ingredients = ingredients.split(\", \")  # [\"Farine\", \"Sucre\", \"Œufs\", \"Lait\"]\n",
    "print(liste_ingredients)"
   ]
  },
  {
   "cell_type": "markdown",
   "metadata": {
    "id": "Ewq1SQPbNYfT"
   },
   "source": [
    "#### **Vérification d'appartenance**:\n",
    "\n",
    "Déterminez si une sous-chaîne est présente dans une chaîne plus grande.\n",
    "\n",
    "```\n",
    "description = \"Python est un langage de programmation polyvalent.\"\n",
    "contient_python = \"Python\" in description  # True\n",
    "```"
   ]
  },
  {
   "cell_type": "code",
   "execution_count": null,
   "metadata": {
    "colab": {
     "base_uri": "https://localhost:8080/"
    },
    "id": "t-95etRFN8YW",
    "outputId": "3712cdd7-0ae1-4488-b91c-60ea20de5d51"
   },
   "outputs": [
    {
     "name": "stdout",
     "output_type": "stream",
     "text": [
      "True\n"
     ]
    }
   ],
   "source": [
    "description = \"Python est un langage de programmation polyvalent.\"\n",
    "contient_python = \"Python\" in description  # True\n",
    "print(contient_python)"
   ]
  },
  {
   "cell_type": "markdown",
   "metadata": {
    "id": "ITf7hvkDmKKe"
   },
   "source": [
    "#### **Ajout d'espaces aux chaînes de caractères avec des tabulations ou des sauts de ligne**"
   ]
  },
  {
   "cell_type": "markdown",
   "metadata": {
    "id": "oCRXeu8cminv"
   },
   "source": [
    "En Python, les caractères d'espacement, y compris les espaces`( )`, les tabulations `(\\t)` et les sauts de ligne `(\\n)`, jouent un rôle essentiel dans la mise en forme et la lisibilité de votre code. Voici comment les inclure efficacement dans vos chaînes de caractères :\n",
    "\n",
    "1. Utilisation de chaînes littérales:\n",
    "\n",
    "Entourez directement les espaces de caractères dans des guillemets simples `('')` ou doubles `(\"\")` lors de la construction de la chaîne.\n",
    "```\n",
    "message_avec_tabulations = \"Ce message\\ta des tabulations.\"  # Sortie : \"Ce message    a des tabulations.\"\n",
    "poème = \"Les roses sont rouges,\\nLes violettes sont bleues.\"  # Sortie : \"Les roses sont rouges,\n",
    "                                                             #          Les violettes sont bleues.\"\n",
    "```"
   ]
  },
  {
   "cell_type": "code",
   "execution_count": null,
   "metadata": {
    "colab": {
     "base_uri": "https://localhost:8080/"
    },
    "id": "tQTIbqnWu_bc",
    "outputId": "9c8bab09-3bb6-43f4-86e6-a63c55eba870"
   },
   "outputs": [
    {
     "name": "stdout",
     "output_type": "stream",
     "text": [
      "Ce message\ta des tabulations.\n",
      "Les roses sont rouges,\n",
      "Les violettes sont bleues.\n"
     ]
    }
   ],
   "source": [
    "message_avec_tabulations = \"Ce message\\ta des tabulations.\"  # Sortie : \"Ce message    a des tabulations.\"\n",
    "poeme = \"Les roses sont rouges,\\nLes violettes sont bleues.\"  # Sortie : \"Les roses sont rouges,\n",
    "                                                             #          Les violettes sont bleues.\"\n",
    "print(message_avec_tabulations)\n",
    "print(poeme)"
   ]
  },
  {
   "cell_type": "markdown",
   "metadata": {
    "id": "vlp3mKf1u7HL"
   },
   "source": [
    "Combinez plusieurs chaînes ou variables contenant des espaces en utilisant l'opérateur `+`.\n",
    "```\n",
    "salutation = \"Bonjour, \"\n",
    "nom = \"Alice\"\n",
    "salutation_complete = salutation + nom  # Sortie : \"Bonjour, Alice\"\n",
    "\n",
    "description = \"Ceci est une\" + \" description longue\\nen plusieurs lignes.\"  # Sortie : \"Ceci est une description longue\n",
    "                                                                           #           en plusieurs lignes.\"\n",
    "\n",
    "```"
   ]
  },
  {
   "cell_type": "code",
   "execution_count": null,
   "metadata": {
    "colab": {
     "base_uri": "https://localhost:8080/"
    },
    "id": "NZyxYOe8v3di",
    "outputId": "7440b6f5-7035-48e1-ec0b-c7ae6c70b363"
   },
   "outputs": [
    {
     "name": "stdout",
     "output_type": "stream",
     "text": [
      "Bonjour, Alice\n",
      "Ceci est une description longue\n",
      "en plusieurs lignes.\n"
     ]
    }
   ],
   "source": [
    "salutation = \"Bonjour, \"\n",
    "nom = \"Alice\"\n",
    "salutation_complete = salutation + nom  # Sortie : \"Bonjour, Alice\"\n",
    "\n",
    "description = \"Ceci est une\" + \" description longue\\nen plusieurs lignes.\"  # Sortie : \"Ceci est une description longue\n",
    "                                                                           #           en plusieurs lignes.\"\n",
    "print(salutation_complete)\n",
    "print(description)"
   ]
  },
  {
   "cell_type": "markdown",
   "metadata": {
    "id": "j7GjxGKGwE87"
   },
   "source": [
    "#### **f-strings (chaînes littérales formatées):**\n",
    "\n",
    "Utilisez les **f-strings** (introduites dans Python 3.6) pour un formatage de chaîne plus pratique et pour intégrer des expressions au sein de la chaîne.\n",
    "\n",
    "```\n",
    "age = 30\n",
    "message_formatté = f\"Vous avez {age} ans.\"  # Sortie : \"Vous avez 30 ans.\"\n",
    "```"
   ]
  },
  {
   "cell_type": "code",
   "execution_count": null,
   "metadata": {
    "colab": {
     "base_uri": "https://localhost:8080/"
    },
    "id": "U_d7WscMxHOs",
    "outputId": "5a589de6-bd25-405a-c1c6-f4c3b358eb08"
   },
   "outputs": [
    {
     "name": "stdout",
     "output_type": "stream",
     "text": [
      "Vous avez 30 ans.\n"
     ]
    }
   ],
   "source": [
    "age = 30\n",
    "message_formatte = f\"Vous avez {age} ans.\"  # Sortie : \"Vous avez 30 ans.\"\n",
    "print(message_formatte)"
   ]
  },
  {
   "cell_type": "markdown",
   "metadata": {
    "id": "i2i-NLmGwEvZ"
   },
   "source": []
  },
  {
   "cell_type": "markdown",
   "metadata": {
    "id": "t53wPgLpwEhC"
   },
   "source": []
  },
  {
   "cell_type": "markdown",
   "metadata": {
    "id": "q4MytBJMOHkq"
   },
   "source": [
    "#### **Formatage de chaînes**:\n",
    "\n",
    "Dans certaines situations, vous voudrez utiliser la valeur d’une variable dans une chaîne. Pour\n",
    "Par exemple, vous pouvez vouloir que deux variables représentent respectivement un nom et un âge, puis vous voulez combiner ces valeurs pour afficher quelque chose:\n",
    "\n",
    "Insérez des variables et des expressions dans des chaînes de caractères de manière formatée.\n",
    "\n",
    "```\n",
    "nom = \"Alice\"\n",
    "age = 30\n",
    "\n",
    "message_formate = f\"Bienvenue, {nom} ! Vous avez {age} ans.\"  # \"Bienvenue, Alice ! Vous avez 30 ans.\"\n",
    "```"
   ]
  },
  {
   "cell_type": "code",
   "execution_count": null,
   "metadata": {
    "colab": {
     "base_uri": "https://localhost:8080/"
    },
    "id": "5qZzQAQjOACI",
    "outputId": "7dfacd3a-8e65-4032-cd8a-77e1409111e8"
   },
   "outputs": [
    {
     "name": "stdout",
     "output_type": "stream",
     "text": [
      "Bienvenue, Alice ! Vous avez 30 ans.\n"
     ]
    }
   ],
   "source": [
    "nom = \"Alice\"\n",
    "age = 30\n",
    "\n",
    "message_formate = f\"Bienvenue, {nom} ! Vous avez {age} ans.\"  # \"Bienvenue, Alice ! Vous avez 30 ans.\"\n",
    "print(message_formate)"
   ]
  },
  {
   "cell_type": "markdown",
   "metadata": {
    "id": "B4TcNWnoPSp9"
   },
   "source": [
    "### **Types d'erreurs pouvant survenir lors des opérations avec des chaînes et solutions**"
   ]
  },
  {
   "cell_type": "markdown",
   "metadata": {
    "id": "g9MgTklKPgcI"
   },
   "source": [
    "Lors de l'utilisation des opérations de base avec des chaînes de caractères en Python, plusieurs types d'erreurs peuvent survenir. Voici les plus courantes et leurs solutions:\n",
    "\n",
    "- IndexError\n",
    "- TypeError"
   ]
  },
  {
   "cell_type": "markdown",
   "metadata": {
    "id": "J7_AOqoBQCDJ"
   },
   "source": [
    "#### **IndexError**:\n",
    "\n",
    "Cause: Cette erreur se produit lorsque vous essayez d'accéder à un caractère en utilisant un index qui se situe en dehors de la plage valide de la chaîne. N'oubliez pas que l'indexation en Python commence à 0 (zéro).\n",
    "\n",
    "*Exemple:*\n",
    "\n",
    "```\n",
    "message = \"Python\"\n",
    "index_invalide = message[7]  # IndexError: string index out of range\n",
    "```\n",
    "\n",
    "*Solution:*\n",
    "\n",
    "Assurez-vous que l'index que vous utilisez se situe bien dans les limites de la longueur de la chaîne. Vous pouvez utiliser la fonction len() pour obtenir la longueur de la chaîne:\n",
    "```\n",
    "longueur_message = len(message)\n",
    "index_valide = message[longueur_message - 1]  # Accède au dernier caractère\n",
    "```"
   ]
  },
  {
   "cell_type": "code",
   "execution_count": null,
   "metadata": {
    "colab": {
     "base_uri": "https://localhost:8080/",
     "height": 159
    },
    "id": "yBjnT7LFOXto",
    "outputId": "b100a109-045b-4e5f-cb11-88c9d0346821"
   },
   "outputs": [
    {
     "ename": "IndexError",
     "evalue": "string index out of range",
     "output_type": "error",
     "traceback": [
      "\u001b[0;31m---------------------------------------------------------------------------\u001b[0m",
      "\u001b[0;31mIndexError\u001b[0m                                Traceback (most recent call last)",
      "\u001b[0;32m<ipython-input-29-f55c1384f507>\u001b[0m in \u001b[0;36m<cell line: 2>\u001b[0;34m()\u001b[0m\n\u001b[1;32m      1\u001b[0m \u001b[0mmessage\u001b[0m \u001b[0;34m=\u001b[0m \u001b[0;34m\"Python\"\u001b[0m\u001b[0;34m\u001b[0m\u001b[0;34m\u001b[0m\u001b[0m\n\u001b[0;32m----> 2\u001b[0;31m \u001b[0mindex_invalide\u001b[0m \u001b[0;34m=\u001b[0m \u001b[0mmessage\u001b[0m\u001b[0;34m[\u001b[0m\u001b[0;36m7\u001b[0m\u001b[0;34m]\u001b[0m  \u001b[0;31m# IndexError: string index out of range\u001b[0m\u001b[0;34m\u001b[0m\u001b[0;34m\u001b[0m\u001b[0m\n\u001b[0m",
      "\u001b[0;31mIndexError\u001b[0m: string index out of range"
     ]
    }
   ],
   "source": [
    "message = \"Python\"\n",
    "index_invalide = message[7]  # IndexError: string index out of range"
   ]
  },
  {
   "cell_type": "code",
   "execution_count": null,
   "metadata": {
    "colab": {
     "base_uri": "https://localhost:8080/"
    },
    "id": "LL6cfS6PQl3Q",
    "outputId": "b3d58a84-dcf9-48df-e975-eaf42d163f81"
   },
   "outputs": [
    {
     "name": "stdout",
     "output_type": "stream",
     "text": [
      "n\n"
     ]
    }
   ],
   "source": [
    "message = \"Python\"\n",
    "longueur_message = len(message)\n",
    "index_valide = message[longueur_message - 1]  # Accède au dernier caractère\n",
    "print(index_valide)"
   ]
  },
  {
   "cell_type": "markdown",
   "metadata": {
    "id": "wXtnTemQRKAy"
   },
   "source": [
    "#### **TypeError:**\n",
    "\n",
    "Cause: Cette erreur se produit lorsque vous tentez d'effectuer une opération sur une chaîne qui n'est pas supportée pour ce type de données. Par exemple, essayer d'effectuer des opérations arithmétiques directement sur des chaînes.\n",
    "\n",
    "```\n",
    "age = \"30\"\n",
    "opération_invalide = \"Bonjour\" + age  # TypeError: can only concatenate str (not \"int\") to str\n",
    "```\n",
    "\n",
    "Si nécessaire, convertissez la chaîne vers un type de données compatible, en utilisant par exemple int() pour les opérations numériques:\n",
    "\n",
    "```\n",
    "age_int = int(age)\n",
    "opération_valide = \"Bonjour, vous avez \" + str(age_int) + \" ans.\"\n",
    "```"
   ]
  },
  {
   "cell_type": "markdown",
   "metadata": {
    "id": "6oz_7Cpdx5A0"
   },
   "source": [
    "###  **Vous-même**"
   ]
  },
  {
   "cell_type": "markdown",
   "metadata": {
    "id": "SlEwEADayCeE"
   },
   "source": [
    "Exercice 1: Créez une chaîne de caractères contenant votre nom et ajoutez-lui un saut de ligne pour l'afficher sur deux lignes différentes.\n",
    "\n",
    "Exercice 2: Construisez une chaîne de caractères qui affiche votre citation préférée. Utilisez des tabulations pour indenter chaque ligne de la citation.\n",
    "\n",
    "Exercice 3: Combinez des chaînes de caractères et des variables pour former un message d'accueil personnalisé avec votre nom et votre âge. Utilisez des f-strings pour y parvenir."
   ]
  },
  {
   "cell_type": "markdown",
   "metadata": {
    "id": "1CktO1JayQZm"
   },
   "source": [
    "Solutions:\n",
    "\n",
    "Exercice 1:\n",
    "```\n",
    "nom = \"Votre Nom\"\n",
    "message_sur_deux_lignes = f\"{nom}\\nBonjour !\"\n",
    "print(message_sur_deux_lignes)\n",
    "```\n",
    "\n",
    "Exercice 2:\n",
    "\n",
    "```\n",
    "citation = \"La vie est une suite d'aventures.\\n\\t- Émile Zola\"\n",
    "print(citation)\n",
    "```\n",
    "\n",
    "Exercice 3:\n",
    "\n",
    "```\n",
    "nom = \"Votre Nom\"\n",
    "age = 30\n",
    "message_accueil = f\"Bienvenue, {nom} ! Vous avez {age} ans.\"\n",
    "print(message_accueil)\n",
    "```"
   ]
  },
  {
   "cell_type": "markdown",
   "metadata": {
    "id": "t7lZxEyLy315"
   },
   "source": [
    "## **Nombre**"
   ]
  },
  {
   "cell_type": "markdown",
   "metadata": {
    "id": "BkyEjE9GC9xn"
   },
   "source": [
    "**Expressions, entiers, Decimaux et traits de soulignement en Python (avec équivalents russes)**\n",
    "\n",
    "En Python, les expressions permettent d'associer des valeurs, des variables et des opérateurs pour calculer ou manipuler des données. Elles constituent l'élément fondamental de la programmation, vous permettant d'effectuer des calculs et de modifier des informations.\n",
    "\n",
    "### Types de nombres :\n",
    "\n",
    "* **Entiers (int)** : Représentent des nombres entiers (sans virgule décimale).\n",
    "\n",
    "   ```python\n",
    "   nombre_entier = 42\n",
    "   print(nombre_entier)  # Sortie : 42\n",
    "   ```\n",
    "Vous pouvez ajouter (+), soustraire (-), multiplier (*) et diviser (/) des nombres entiers en Python.\n",
    "\n",
    "\n",
    "**Opérateurs arithmétiques:**\n",
    "\n",
    "* `+` (addition)\n",
    "* `-` (soustraction)\n",
    "* `*` (multiplication)\n",
    "* `/` (division)\n",
    "   - **Remarque:** La division par zéro entraîne une erreur (`ZeroDivisionError`) en Python.\n",
    "* `//` (division entière) : Renvoie le quotient entier de la division, sans décimales.\n",
    "* `%` (modulo) : Renvoie le reste de la division.\n",
    "* `**` (exposant): Python utilise deux symboles de multiplication pour représenter les exposants\n",
    "   ```python\n",
    "   somme = 10 + 5\n",
    "   difference = 10 - 5\n",
    "   produit = 10 * 2\n",
    "   division = 10 / 2  # Résultat : 5.0 (nombre à virgule flottante)\n",
    "   quotient_entier = 10 // 2  # Résultat : 5 (entier)\n",
    "   reste = 10 % 3  # Résultat : 1 (reste de la division)\n",
    "   exposant = 2 ** 2 # Résultat : 4 (2 au carrés)\n",
    "\n",
    "   print(f\"Somme : {somme}, Différence : {difference}, Produit : {produit}\")\n",
    "   print(f\"Division : {division}, Quotient entier : {quotient_entier}, Reste : {reste}, Exposant: {exposant}\")\n",
    "   ```"
   ]
  },
  {
   "cell_type": "code",
   "execution_count": null,
   "metadata": {
    "colab": {
     "base_uri": "https://localhost:8080/"
    },
    "id": "V3wCRlEfFQ5b",
    "outputId": "537b6d39-d2f9-4bbc-d228-f4262d0921b8"
   },
   "outputs": [
    {
     "name": "stdout",
     "output_type": "stream",
     "text": [
      "42\n"
     ]
    }
   ],
   "source": [
    "nombre_entier = 42\n",
    "print(nombre_entier)"
   ]
  },
  {
   "cell_type": "code",
   "execution_count": null,
   "metadata": {
    "colab": {
     "base_uri": "https://localhost:8080/"
    },
    "id": "PTjWOe_6HFvT",
    "outputId": "2075bf7f-2599-4efd-9d3b-50143f63b36c"
   },
   "outputs": [
    {
     "name": "stdout",
     "output_type": "stream",
     "text": [
      "Somme : 15, Différence : 5, Produit : 20\n",
      "Division : 5.0, Quotient entier : 5, Reste : 1,  Exposant: 4\n"
     ]
    }
   ],
   "source": [
    "somme = 10 + 5\n",
    "difference = 10 - 5\n",
    "produit = 10 * 2\n",
    "division = 10 / 2  # Résultat : 5.0 (nombre à virgule flottante)\n",
    "quotient_entier = 10 // 2  # Résultat : 5 (entier)\n",
    "reste = 10 % 3  # Résultat : 1 (reste de la division)\n",
    "exposant = 2 ** 2 # Résultat : 4 (2 au carrés)\n",
    "\n",
    "print(f\"Somme : {somme}, Différence : {difference}, Produit : {produit}\")\n",
    "print(f\"Division : {division}, Quotient entier : {quotient_entier}, Reste : {reste},  Exposant: {exposant}\")"
   ]
  },
  {
   "cell_type": "markdown",
   "metadata": {
    "id": "vikdG8nTIJaq"
   },
   "source": [
    "* **Décimales**:\n",
    "\n",
    "Représentent des nombres pouvant contenir une virgule décimale pour des valeurs décimales précises.\n",
    "Pour la plupart, vous pouvez utiliser des décimales sans vous soucier de leur comportement.\n",
    "   ```python\n",
    "   nombre_flottant = 3.14159\n",
    "   print(nombre_flottant)  # Sortie : 3.14159\n",
    "   ```"
   ]
  },
  {
   "cell_type": "code",
   "execution_count": null,
   "metadata": {
    "colab": {
     "base_uri": "https://localhost:8080/"
    },
    "id": "T7umMCLWLY3p",
    "outputId": "652a5395-9bc0-44e5-a031-7633f0286b88"
   },
   "outputs": [
    {
     "name": "stdout",
     "output_type": "stream",
     "text": [
      "3.14159\n"
     ]
    }
   ],
   "source": [
    "nombre_flottant = 3.14159\n",
    "print(nombre_flottant)  # Sortie : 3.14159"
   ]
  },
  {
   "cell_type": "markdown",
   "metadata": {
    "id": "BCXVj8QdIJJQ"
   },
   "source": [
    "Mais sachez que vous pouvez parfois obtenir un nombre arbitraire de décimales dans votre réponse:"
   ]
  },
  {
   "cell_type": "code",
   "execution_count": null,
   "metadata": {
    "colab": {
     "base_uri": "https://localhost:8080/"
    },
    "id": "0CcBj-E7MJZb",
    "outputId": "75da7097-44e2-4543-a8a3-98561b0e7395"
   },
   "outputs": [
    {
     "data": {
      "text/plain": [
       "0.30000000000000004"
      ]
     },
     "execution_count": 5,
     "metadata": {},
     "output_type": "execute_result"
    }
   ],
   "source": [
    "0.2 + 0.1"
   ]
  },
  {
   "cell_type": "code",
   "execution_count": null,
   "metadata": {
    "colab": {
     "base_uri": "https://localhost:8080/"
    },
    "id": "VA9wM9bLMPCh",
    "outputId": "0ea1c2a6-8bd9-4a9d-93c2-b1938bc4aa3d"
   },
   "outputs": [
    {
     "data": {
      "text/plain": [
       "0.30000000000000004"
      ]
     },
     "execution_count": 6,
     "metadata": {},
     "output_type": "execute_result"
    }
   ],
   "source": [
    "3 * 0.1"
   ]
  },
  {
   "cell_type": "markdown",
   "metadata": {
    "id": "QRwHrQBNII48"
   },
   "source": [
    "Lorsque vous divisez deux nombres, même s’il s’agit d’entiers qui donnent un nombre entier, vous obtenez toujours un flottement:"
   ]
  },
  {
   "cell_type": "code",
   "execution_count": null,
   "metadata": {
    "colab": {
     "base_uri": "https://localhost:8080/"
    },
    "id": "GI-CK1YwMvGh",
    "outputId": "66fc29ab-ea13-4dc2-e191-fe597c87c3c9"
   },
   "outputs": [
    {
     "data": {
      "text/plain": [
       "2.0"
      ]
     },
     "execution_count": 7,
     "metadata": {},
     "output_type": "execute_result"
    }
   ],
   "source": [
    "4/2"
   ]
  },
  {
   "cell_type": "markdown",
   "metadata": {
    "id": "sLTaB7x3M2Yu"
   },
   "source": [
    "Si vous mélangez un entier et un flotteur dans toute autre opération, vous obtiendrez un flotter également:"
   ]
  },
  {
   "cell_type": "code",
   "execution_count": null,
   "metadata": {
    "colab": {
     "base_uri": "https://localhost:8080/"
    },
    "id": "wOfMQGsIMu3J",
    "outputId": "88850768-4b79-4e0e-c7f2-d0e6c68fba73"
   },
   "outputs": [
    {
     "data": {
      "text/plain": [
       "3.0"
      ]
     },
     "execution_count": 8,
     "metadata": {},
     "output_type": "execute_result"
    }
   ],
   "source": [
    "1 + 2.0"
   ]
  },
  {
   "cell_type": "code",
   "execution_count": null,
   "metadata": {
    "colab": {
     "base_uri": "https://localhost:8080/"
    },
    "id": "ohEVVff8NMzW",
    "outputId": "d1bd8f70-ca93-4c48-bb5f-4709559250b9"
   },
   "outputs": [
    {
     "data": {
      "text/plain": [
       "6.0"
      ]
     },
     "execution_count": 9,
     "metadata": {},
     "output_type": "execute_result"
    }
   ],
   "source": [
    "2 * 3.0"
   ]
  },
  {
   "cell_type": "code",
   "execution_count": null,
   "metadata": {
    "colab": {
     "base_uri": "https://localhost:8080/"
    },
    "id": "kQmRs0kyNMjo",
    "outputId": "883017b0-623b-4ea7-e8bc-2610631e2664"
   },
   "outputs": [
    {
     "data": {
      "text/plain": [
       "9.0"
      ]
     },
     "execution_count": 10,
     "metadata": {},
     "output_type": "execute_result"
    }
   ],
   "source": [
    "3.0 ** 2"
   ]
  },
  {
   "cell_type": "markdown",
   "metadata": {
    "id": "oqhkjG7VOCgm"
   },
   "source": [
    "Python utilise par défaut un float dans toute opération qui utilise un float, même si la sortie est un nombre entier."
   ]
  },
  {
   "cell_type": "code",
   "execution_count": null,
   "metadata": {
    "id": "3PE6s2H5MtX3"
   },
   "outputs": [],
   "source": []
  },
  {
   "cell_type": "markdown",
   "metadata": {
    "id": "gHRh265AIInS"
   },
   "source": []
  },
  {
   "cell_type": "code",
   "execution_count": null,
   "metadata": {
    "id": "f-DGvD4YHFar"
   },
   "outputs": [],
   "source": []
  },
  {
   "cell_type": "markdown",
   "metadata": {
    "id": "uNCxjAq0y3sb"
   },
   "source": [
    "\n",
    "### Traits de soulignement dans les nombres :\n",
    "\n",
    "Depuis Python 3.6, vous pouvez inclure des traits de soulignement (`_`) pour améliorer la lisibilité des grands nombres. Ces traits de soulignement n'affectent pas la valeur du nombre.\n",
    "\n",
    "   ```python\n",
    "   grand_nombre = 1_234_567_890\n",
    "   print(grand_nombre)  # Sortie : 1234567890\n",
    "   ```"
   ]
  },
  {
   "cell_type": "code",
   "execution_count": null,
   "metadata": {
    "colab": {
     "base_uri": "https://localhost:8080/"
    },
    "id": "jSRMHq_YOfUP",
    "outputId": "c3c80cdc-0ead-4379-c2a2-32fee87386a9"
   },
   "outputs": [
    {
     "name": "stdout",
     "output_type": "stream",
     "text": [
      "1234567890\n"
     ]
    }
   ],
   "source": [
    "grand_nombre = 1_234_567_890\n",
    "print(grand_nombre)  # Sortie : 1234567890"
   ]
  },
  {
   "cell_type": "markdown",
   "metadata": {
    "id": "9gYtfldyOdAf"
   },
   "source": [
    "**Remarque importante :** Les traits de soulignement dans les nombres ne sont **pas** des séparateurs de milliers comme dans certains pays. Ils servent uniquement à améliorer la lisibilité.\n",
    "\n",
    "### Affectations multiples :\n",
    "\n",
    "Python permet d'affecter des valeurs à plusieurs variables en une seule ligne, ce qui est particulièrement utile pour des initialisations groupées.\n",
    "\n",
    "   ```python\n",
    "   nom, prenom, age = \"Alice\", \"Martin\", 30\n",
    "   print(f\"Nom : {nom}, Prénom : {prenom}, Âge : {age}\")  # Sortie : Nom : Alice, Prénom : Martin, Âge : 30\n",
    "   ```"
   ]
  },
  {
   "cell_type": "markdown",
   "metadata": {
    "id": "Qj61yQ_KT2jv"
   },
   "source": [
    "### Essayez vous-même (Testez vos connaissances)\n",
    "\n",
    "Maintenant que vous avez découvert les expressions, les types de nombres, les traits de soulignement et les affectations multiples, testez vos acquis en Python!\n",
    "\n",
    "**Exercice 1 : Calcul et affichage**\n",
    "\n",
    "- Calculez la surface d'un rectangle en multipliant sa longueur (5 mètres) par sa largeur (3 mètres).\n",
    "- Stockez le résultat dans une variable nommée `surface`.\n",
    "- Affichez la surface calculée à l'écran.\n",
    "\n",
    "**Solution:**\n",
    "\n",
    "```python\n",
    "longueur = 5  # mètres\n",
    "largeur = 3  # mètres\n",
    "\n",
    "surface = longueur * largeur\n",
    "print(f\"La surface du rectangle est de {surface} mètres carrés.\")\n",
    "```\n",
    "\n",
    "**Exercice 2 : Conversion de devises**\n",
    "\n",
    "- Créez deux variables : `taux_de_change` (taux de change euro vers dollar) et `montant_en_euros`.\n",
    "- Demandez à l'utilisateur de saisir le montant en euros à convertir.\n",
    "- Calculez l'équivalent en dollars en multipliant le montant en euros par le taux de change.\n",
    "- Affichez le montant converti à l'écran, en indiquant clairement qu'il s'agit de dollars.\n",
    "\n",
    "**Solution:**\n",
    "\n",
    "```python\n",
    "taux_de_change = 1.1  # dollars par euro (exemple)\n",
    "montant_en_euros = float(input(\"Saisissez le montant en euros à convertir : \"))\n",
    "\n",
    "montant_en_dollars = montant_en_euros * taux_de_change\n",
    "print(f\"Le montant converti en dollars est de {montant_en_dollars:.2f} $ US.\")  # Affichage avec 2 décimales\n",
    "```\n",
    "\n",
    "**Exercice 3 : Opérateurs de comparaison**\n",
    "\n",
    "- Définissez deux variables, `age_minimum` et `age_utilisateur`.\n",
    "- Vérifiez si l'âge de l'utilisateur est supérieur ou égal à l'âge minimum requis.\n",
    "- Affichez un message indiquant si l'utilisateur est autorisé à effectuer une action en fonction de son âge.\n",
    "\n",
    "**Solution:**\n",
    "\n",
    "```python\n",
    "age_minimum = 18  # Exemple d'âge minimum\n",
    "age_utilisateur = int(input(\"Saisissez votre âge : \"))\n",
    "\n",
    "est_autorise = age_utilisateur >= age_minimum\n",
    "\n",
    "if est_autorise:\n",
    "    print(\"Vous êtes autorisé à effectuer cette action.\")\n",
    "else:\n",
    "    print(\"Vous ne remplissez pas les conditions d'âge requises.\")\n",
    "```\n",
    "\n",
    "En effectuant ces exercices, vous pourrez mettre en pratique vos connaissances sur les expressions, les nombres, les affectations multiples et les opérateurs en Python. N'hésitez pas à expérimenter et à créer vos propres programmes!\n"
   ]
  },
  {
   "cell_type": "markdown",
   "metadata": {
    "id": "p83NXMRAU1TK"
   },
   "source": [
    "## Commentaires en Python et la Philosophie de Python (Zen of Python)\n",
    "\n",
    "En Python, les commentaires sont des lignes de code ignorées par l'interpréteur lors de l'exécution du programme. Ils servent à :\n",
    "\n",
    "* **Expliquer le code:** Fournissent des explications sur ce que fait le code, améliorant la lisibilité et la compréhension pour vous-même et pour les autres développeurs.\n",
    "* **Documenter le programme:** Permettent d'ajouter des informations sur le fonctionnement du programme, son objectif et son utilisation.\n",
    "* **Rappeler des points importants:** Aident à vous souvenir de la logique et des décisions prises lors de la programmation.\n",
    "* **Désactiver temporairement du code:**  En commentant des sections de code, vous pouvez les désactiver temporairement à des fins de test ou de débogage sans supprimer le code.\n",
    "\n",
    "Il existe deux types de commentaires en Python :\n",
    "\n",
    "* **Commentaires sur une seule ligne:** Commencez par le symbole `#`. Tout texte suivant ce symbole est ignoré par l'interpréteur.\n",
    "\n",
    "   ```python\n",
    "   # Ceci est un commentaire sur une seule ligne.\n",
    "   x = 10  # Variable pour stocker une valeur\n",
    "   ```\n",
    "\n",
    "* **Commentaires multilignes:** Entourés par des triples guillemets (`\"\"\"` ou `'''`). Ils s'étendent sur plusieurs lignes.\n",
    "\n",
    "   ```python\n",
    "   \"\"\"\n",
    "   Ceci est un commentaire\n",
    "   qui s'étend sur plusieurs lignes.\n",
    "   \"\"\"\n",
    "\n",
    "   nombre = 5\n",
    "   # Le commentaire explique la signification de la variable 'nombre'.\n",
    "   ```\n",
    "\n",
    "### Pourquoi les commentaires sont-ils importants ?\n",
    "\n",
    "Les commentaires sont essentiels pour plusieurs raisons :\n",
    "\n",
    "* **Lisibilité du code:** Un code bien commenté est plus facile à comprendre, à maintenir et à modifier, tant pour vous que pour les autres développeurs.\n",
    "* **Collaboration:** Les commentaires facilitent la collaboration sur des projets en équipe, car ils permettent à chaque développeur de comprendre la logique et l'objectif du code.\n",
    "* **Débogage:** Les commentaires peuvent vous aider à identifier les erreurs et à déboguer votre code plus facilement.\n",
    "\n",
    "### La Philosophie de Python (Zen of Python)\n",
    "\n",
    "Le Zen of Python, également connu sous le nom de PEP 20, est un ensemble de 20 aphorismes (proverbes) qui reflètent la philosophie et les principes de conception du langage Python. Ces aphorismes mettent l'accent sur la simplicité, la lisibilité, la praticité et l'élégance du code.\n",
    "\n",
    "Voici quelques exemples d'aphorismes du Zen of Python :\n",
    "\n",
    "* **Beautiful is better than ugly.** (Beau est mieux que laid) - Le code doit être bien écrit, lisible et facile à comprendre.\n",
    "* **Explicit is better than implicit.** (Explicite est mieux qu'implicite) - Le code doit être clair et direct, sans ambiguïté.\n",
    "* **Simple is better than complex.** (Simple est mieux que complexe) - Le code doit être aussi simple et direct que possible pour accomplir la tâche.\n",
    "\n",
    "En suivant ces principes et en utilisant des commentaires judicieusement, vous pouvez écrire du code Python plus clair, maintenable et élégant, respectant la philosophie du langage.\n"
   ]
  },
  {
   "cell_type": "markdown",
   "metadata": {
    "collapsed": false
   },
   "source": []
  },
  {
   "cell_type": "code",
   "metadata": {
    "collapsed": false
   },
   "outputs": [],
   "source": [
    "```{tableofcontents}\n",
    "```"
   ]
  },
  {
   "cell_type": "code",
   "execution_count": null,
   "metadata": {
    "id": "okdbVlGQQ6YT"
   },
   "outputs": [],
   "source": []
  }
 ],
 "metadata": {
  "colab": {
   "provenance": [],
   "toc_visible": true
  },
  "kernelspec": {
   "display_name": "Python 3",
   "name": "python3"
  },
  "language_info": {
   "codemirror_mode": {
    "name": "ipython",
    "version": 3
   },
   "file_extension": ".py",
   "mimetype": "text/x-python",
   "name": "python",
   "nbconvert_exporter": "python",
   "pygments_lexer": "ipython3",
   "version": "3.11.9"
  }
 },
 "nbformat": 4,
 "nbformat_minor": 0
}