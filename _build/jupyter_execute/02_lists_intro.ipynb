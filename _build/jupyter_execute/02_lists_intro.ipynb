{
 "cells": [
  {
   "cell_type": "markdown",
   "metadata": {
    "id": "2rIBblfgS53V"
   },
   "source": [
    "# **Introduction aux Listes**\n",
    "\n",
    "Dans cet article, vous allez apprendre ce qu'est une liste et comment utiliser ses éléments. Les listes permettent de stocker plusieurs éléments dans une seule variable, ce qui est très utile lorsque vous devez travailler avec des groupes de données. En Python, les listes sont dynamiques, ce qui signifie que vous pouvez facilement modifier leur contenu en ***ajoutant***, ***supprimant*** ou ***remplaçant*** des éléments."
   ]
  },
  {
   "cell_type": "markdown",
   "metadata": {
    "id": "PF9uibLBWFHc"
   },
   "source": [
    "# **Définition**\n",
    "\n",
    "Une **liste** est une collection d'éléments, souvent appelés **éléments** ou **valeurs**, qui sont organisés dans un ordre particulier. Les éléments d'une liste peuvent être de n'importe quel type : chaînes de caractères, nombres, etc. Vous pouvez même mélanger plusieurs types d'éléments dans une seule liste.\n",
    "\n",
    "En Python, les listes sont définies en entourant les éléments par des crochets (`[]`) et en séparant les éléments par des virgules."
   ]
  },
  {
   "cell_type": "code",
   "execution_count": 1,
   "metadata": {
    "colab": {
     "base_uri": "https://localhost:8080/"
    },
    "executionInfo": {
     "elapsed": 425,
     "status": "ok",
     "timestamp": 1725827778655,
     "user": {
      "displayName": "brice brice",
      "userId": "11421884799473561185"
     },
     "user_tz": -60
    },
    "id": "Yr5uK8Y1RX2x",
    "outputId": "5b7a9f55-973c-49f5-f47a-23bb610d1b5a"
   },
   "outputs": [
    {
     "name": "stdout",
     "output_type": "stream",
     "text": [
      "['pomme', 'banane', 'orange', 'raisin']\n"
     ]
    }
   ],
   "source": [
    "fruits = ['pomme', 'banane', 'orange', 'raisin']\n",
    "print(fruits)"
   ]
  },
  {
   "cell_type": "markdown",
   "metadata": {
    "id": "OwRqnJ8nXMJI"
   },
   "source": [
    "# **Accéder aux Éléments d'une Liste**\n",
    "\n",
    "## **Indexation Positive**\n",
    "\n",
    "En Python, les listes sont des collections ordonnées d'éléments, où chaque élément a une position spécifique ou un index. Contrairement au comptage humain où nous commençons par 1, les listes Python commencent leur indexation à partir de 0. C'est une convention courante dans de nombreux langages de programmation et est enracinée dans la mise en œuvre sous-jacente des opérations sur les listes.\n",
    "\n",
    "Chaque élément d'une liste est numéroté en fonction de sa position dans la liste. Cette position est appelée indice. En Python, les indices commencent toujours à 0, c'est-à-dire que le premier élément a l'indice 0, le deuxième élément a l'indice 1, et ainsi de suite.\n",
    "\n",
    "Pour accéder à un élément d'une liste, vous devez indiquer l'indice entre crochets après le nom de la liste.\n",
    "\n",
    "Exemple :"
   ]
  },
  {
   "cell_type": "code",
   "execution_count": 2,
   "metadata": {
    "colab": {
     "base_uri": "https://localhost:8080/"
    },
    "executionInfo": {
     "elapsed": 2788,
     "status": "ok",
     "timestamp": 1725830271405,
     "user": {
      "displayName": "brice brice",
      "userId": "11421884799473561185"
     },
     "user_tz": -60
    },
    "id": "RuCfzjgnWdcF",
    "outputId": "5ed0a93a-ce78-4bee-eeee-f91435fd0dac"
   },
   "outputs": [
    {
     "name": "stdout",
     "output_type": "stream",
     "text": [
      "pomme\n",
      "Orange\n"
     ]
    }
   ],
   "source": [
    "fruits = ['pomme', 'banane', 'orange', 'raisin']\n",
    "print(fruits[0])  # Affiche le premier élément\n",
    "print(fruits[2].title())  # Affiche le troisième élément"
   ]
  },
  {
   "cell_type": "markdown",
   "metadata": {
    "id": "CaWvMsFSbAFO"
   },
   "source": [
    "# **Indexation Négative**\n",
    "\n",
    "Python prend également en charge l'indexation négative, ce qui vous permet d'accéder aux éléments à partir de la fin de la liste. L'index -1 fait référence au dernier élément, -2 au deuxième dernier, et ainsi de suite:"
   ]
  },
  {
   "cell_type": "code",
   "execution_count": 3,
   "metadata": {
    "colab": {
     "base_uri": "https://localhost:8080/"
    },
    "executionInfo": {
     "elapsed": 3,
     "status": "ok",
     "timestamp": 1725830271405,
     "user": {
      "displayName": "brice brice",
      "userId": "11421884799473561185"
     },
     "user_tz": -60
    },
    "id": "Ry425Cu6Xaft",
    "outputId": "32682391-6371-4a02-e122-df295db2f9bd"
   },
   "outputs": [
    {
     "name": "stdout",
     "output_type": "stream",
     "text": [
      "Raisin\n",
      "Orange\n"
     ]
    }
   ],
   "source": [
    "print(fruits[-1].capitalize())  # Sortie : Raisin\n",
    "print(fruits[-2].title())  # Sortie : Orange"
   ]
  },
  {
   "cell_type": "markdown",
   "metadata": {
    "id": "PxG7EBMLcxuc"
   },
   "source": [
    "## **Pourquoi l'Indexation Négative est Utile**\n",
    "\n",
    "L'indexation négative est particulièrement pratique lorsque vous souhaitez accéder aux derniers éléments d'une liste sans connaître sa longueur exacte. Par exemple, si vous avez besoin de traiter le dernier élément d'une liste indépendamment de sa taille, vous pouvez utiliser l'index -1."
   ]
  },
  {
   "cell_type": "markdown",
   "metadata": {
    "id": "0IwO9s96dqWA"
   },
   "source": [
    "# **Utiliser des Valeurs Individuelles d'une Liste**\n",
    "\n",
    "Vous pouvez utiliser les valeurs d'une liste dans des phrases ou des calculs, comme n'importe quelle autre variable.\n",
    "\n",
    "Exemple d'utilisation avec une f-string pour inclure un élément dans une phrase:"
   ]
  },
  {
   "cell_type": "code",
   "execution_count": 4,
   "metadata": {
    "colab": {
     "base_uri": "https://localhost:8080/"
    },
    "executionInfo": {
     "elapsed": 5,
     "status": "ok",
     "timestamp": 1725830273481,
     "user": {
      "displayName": "brice brice",
      "userId": "11421884799473561185"
     },
     "user_tz": -60
    },
    "id": "_f1gXCSecXVH",
    "outputId": "88640300-800b-4237-cbd0-5cfe3390e40b"
   },
   "outputs": [
    {
     "name": "stdout",
     "output_type": "stream",
     "text": [
      "Mon fruit préféré est la pomme.\n"
     ]
    }
   ],
   "source": [
    "message = f\"Mon fruit préféré est la {fruits[0]}.\"\n",
    "print(message)"
   ]
  },
  {
   "cell_type": "markdown",
   "metadata": {
    "id": "VuMre1I1d9TM"
   },
   "source": [
    "# **Modifier, Ajouter et Supprimer des Éléments**"
   ]
  },
  {
   "cell_type": "markdown",
   "metadata": {
    "id": "BbXotpcCeAlE"
   },
   "source": [
    "## **Modifier un Élément**\n",
    "Pour modifier une valeur dans une liste, vous spécifiez l'indice de l'élément à modifier et vous lui attribuez une nouvelle valeur.\n",
    "\n",
    "Exemple:"
   ]
  },
  {
   "cell_type": "code",
   "execution_count": 5,
   "metadata": {
    "colab": {
     "base_uri": "https://localhost:8080/"
    },
    "executionInfo": {
     "elapsed": 5,
     "status": "ok",
     "timestamp": 1725830273482,
     "user": {
      "displayName": "brice brice",
      "userId": "11421884799473561185"
     },
     "user_tz": -60
    },
    "id": "4tB15wUdd4Fj",
    "outputId": "3401fbc4-4875-419e-bb1e-bc773cd70245"
   },
   "outputs": [
    {
     "name": "stdout",
     "output_type": "stream",
     "text": [
      "['pomme', 'banane', 'orange', 'raisin']\n",
      "['pomme', 'fraise', 'orange', 'raisin']\n"
     ]
    }
   ],
   "source": [
    "print(fruits)\n",
    "\n",
    "fruits[1] = 'fraise'\n",
    "print(fruits)"
   ]
  },
  {
   "cell_type": "markdown",
   "metadata": {
    "id": "PouwLoyoevfu"
   },
   "source": [
    "## **Ajouter des Éléments à une Liste**\n",
    "Ajouter à la Fin d'une Liste\n",
    "La méthode `append()` permet d'ajouter un nouvel élément à la fin de la liste.\n",
    "\n",
    "Exemple:"
   ]
  },
  {
   "cell_type": "code",
   "execution_count": 6,
   "metadata": {
    "colab": {
     "base_uri": "https://localhost:8080/"
    },
    "executionInfo": {
     "elapsed": 3,
     "status": "ok",
     "timestamp": 1725830274858,
     "user": {
      "displayName": "brice brice",
      "userId": "11421884799473561185"
     },
     "user_tz": -60
    },
    "id": "_JOdId7teXJl",
    "outputId": "ae6d2519-669b-4804-a53f-b056b50caf41"
   },
   "outputs": [
    {
     "name": "stdout",
     "output_type": "stream",
     "text": [
      "['pomme', 'fraise', 'orange', 'raisin', 'kiwi', 'mangue', 'cerise', 'poire', 'pêche', 'abricot']\n"
     ]
    }
   ],
   "source": [
    "fruits.append('kiwi')\n",
    "fruits.append('mangue')\n",
    "fruits.append('cerise')\n",
    "fruits.append('poire')\n",
    "fruits.append('pêche')\n",
    "fruits.append('abricot')\n",
    "print(fruits)"
   ]
  },
  {
   "cell_type": "markdown",
   "metadata": {
    "id": "Z_356FeYe-TV"
   },
   "source": [
    "## **Insérer à une Position Spécifique**\n",
    "La méthode `insert()` permet d'ajouter un élément à n'importe quelle position dans la liste. Vous devez spécifier l'indice où l'élément doit être inséré.\n",
    "\n",
    "Exemple:"
   ]
  },
  {
   "cell_type": "code",
   "execution_count": 7,
   "metadata": {
    "colab": {
     "base_uri": "https://localhost:8080/"
    },
    "executionInfo": {
     "elapsed": 421,
     "status": "ok",
     "timestamp": 1725830338011,
     "user": {
      "displayName": "brice brice",
      "userId": "11421884799473561185"
     },
     "user_tz": -60
    },
    "id": "k_DpZ-qme65Z",
    "outputId": "24a564a3-1039-42d5-b730-67ed25a5a6a5"
   },
   "outputs": [
    {
     "name": "stdout",
     "output_type": "stream",
     "text": [
      "['pomme', 'fraise', 'orange', 'raisin', 'kiwi', 'mangue', 'cerise', 'poire', 'pêche', 'abricot']\n",
      "['pomme', 'fraise', 'ananas', 'orange', 'raisin', 'kiwi', 'mangue', 'cerise', 'poire', 'pêche', 'figue', 'citron', 'melon', 'pastèque', 'grenade', 'abricot']\n"
     ]
    }
   ],
   "source": [
    "print(fruits)\n",
    "fruits.insert(2, 'ananas')\n",
    "fruits.insert(-1, 'figue')\n",
    "fruits.insert(-1, 'citron')\n",
    "fruits.insert(-1, 'melon')\n",
    "fruits.insert(-1, 'pastèque')\n",
    "fruits.insert(-1, 'grenade')\n",
    "print(fruits)"
   ]
  },
  {
   "cell_type": "markdown",
   "metadata": {
    "id": "fWR1uDFQgouX"
   },
   "source": [
    "## **Supprimer des Éléments d'une Liste**\n",
    "Utiliser `del`\n",
    "\n",
    "Si vous connaissez la position de l'élément que vous voulez supprimer, vous pouvez utiliser l'instruction del.\n",
    "\n",
    "Exemple:"
   ]
  },
  {
   "cell_type": "code",
   "execution_count": 8,
   "metadata": {
    "colab": {
     "base_uri": "https://localhost:8080/"
    },
    "executionInfo": {
     "elapsed": 400,
     "status": "ok",
     "timestamp": 1725830495904,
     "user": {
      "displayName": "brice brice",
      "userId": "11421884799473561185"
     },
     "user_tz": -60
    },
    "id": "Pr7gCHKggvge",
    "outputId": "7fad534b-a866-4e52-9987-dbbdf33e2ac2"
   },
   "outputs": [
    {
     "name": "stdout",
     "output_type": "stream",
     "text": [
      "['pomme', 'fraise', 'orange', 'raisin', 'kiwi', 'mangue', 'cerise', 'poire', 'pêche', 'figue', 'citron', 'melon', 'pastèque', 'grenade', 'abricot']\n"
     ]
    }
   ],
   "source": [
    "del fruits[2]\n",
    "print(fruits)"
   ]
  },
  {
   "cell_type": "markdown",
   "metadata": {
    "id": "o5NQP9KchFFc"
   },
   "source": [
    "## **Utiliser pop()**\n",
    "La méthode `pop()` retire le dernier élément de la liste et vous permet de le réutiliser. Si vous souhaitez retirer un élément à une position spécifique, vous pouvez indiquer l'indice de cet élément.\n",
    "\n",
    "Exemple:"
   ]
  },
  {
   "cell_type": "code",
   "execution_count": 9,
   "metadata": {
    "colab": {
     "base_uri": "https://localhost:8080/"
    },
    "executionInfo": {
     "elapsed": 434,
     "status": "ok",
     "timestamp": 1725830624008,
     "user": {
      "displayName": "brice brice",
      "userId": "11421884799473561185"
     },
     "user_tz": -60
    },
    "id": "GCX5br2Gg3sN",
    "outputId": "dfb09119-2df8-4e8d-d924-00fbc0593108"
   },
   "outputs": [
    {
     "name": "stdout",
     "output_type": "stream",
     "text": [
      "['pomme', 'fraise', 'orange', 'raisin', 'kiwi', 'mangue', 'cerise', 'poire', 'pêche', 'figue', 'citron', 'melon', 'pastèque', 'grenade']\n",
      "Le dernier fruit était un abricot.\n"
     ]
    }
   ],
   "source": [
    "dernier_fruit = fruits.pop()\n",
    "print(fruits)\n",
    "print(f\"Le dernier fruit était un {dernier_fruit}.\")"
   ]
  },
  {
   "cell_type": "code",
   "execution_count": 10,
   "metadata": {
    "colab": {
     "base_uri": "https://localhost:8080/"
    },
    "executionInfo": {
     "elapsed": 4,
     "status": "ok",
     "timestamp": 1725831588001,
     "user": {
      "displayName": "brice brice",
      "userId": "11421884799473561185"
     },
     "user_tz": -60
    },
    "id": "08N3psjkhW9G",
    "outputId": "bed140dc-b13b-4db0-c277-913b9650253c"
   },
   "outputs": [
    {
     "name": "stdout",
     "output_type": "stream",
     "text": [
      "['fraise', 'orange', 'raisin', 'kiwi', 'mangue', 'cerise', 'poire', 'pêche', 'figue', 'citron', 'melon', 'pastèque', 'grenade']\n",
      "Le dernier fruit était un pomme.\n"
     ]
    }
   ],
   "source": [
    "premier_fruit = fruits.pop(0)\n",
    "print(fruits)\n",
    "print(f\"Le dernier fruit était un {premier_fruit}.\")"
   ]
  },
  {
   "cell_type": "markdown",
   "metadata": {
    "id": "hkC6q0aelJWG"
   },
   "source": [
    "## **Utiliser remove()**\n",
    "La méthode `remove()` permet de supprimer un élément par sa valeur et non par son indice.\n",
    "\n",
    "Exemple:"
   ]
  },
  {
   "cell_type": "code",
   "execution_count": 11,
   "metadata": {
    "colab": {
     "base_uri": "https://localhost:8080/"
    },
    "executionInfo": {
     "elapsed": 605,
     "status": "ok",
     "timestamp": 1725831666015,
     "user": {
      "displayName": "brice brice",
      "userId": "11421884799473561185"
     },
     "user_tz": -60
    },
    "id": "YeEn1TYmlCK4",
    "outputId": "d0c97dcc-e112-4162-cc2c-1781d2092df6"
   },
   "outputs": [
    {
     "ename": "ValueError",
     "evalue": "list.remove(x): x not in list",
     "output_type": "error",
     "traceback": [
      "\u001b[1;31m---------------------------------------------------------------------------\u001b[0m",
      "\u001b[1;31mValueError\u001b[0m                                Traceback (most recent call last)",
      "Cell \u001b[1;32mIn[11], line 1\u001b[0m\n\u001b[1;32m----> 1\u001b[0m \u001b[43mfruits\u001b[49m\u001b[38;5;241;43m.\u001b[39;49m\u001b[43mremove\u001b[49m\u001b[43m(\u001b[49m\u001b[38;5;124;43m'\u001b[39;49m\u001b[38;5;124;43mananas\u001b[39;49m\u001b[38;5;124;43m'\u001b[39;49m\u001b[43m)\u001b[49m\n\u001b[0;32m      2\u001b[0m \u001b[38;5;28mprint\u001b[39m(fruits)\n",
      "\u001b[1;31mValueError\u001b[0m: list.remove(x): x not in list"
     ]
    }
   ],
   "source": [
    "fruits.remove('ananas')\n",
    "print(fruits)"
   ]
  },
  {
   "cell_type": "markdown",
   "metadata": {
    "id": "7McG2ZpfliM_"
   },
   "source": [
    "# **Exercices**\n",
    "## **Exercice 2-1 : Liste d'invités**\n",
    "\n",
    "Si vous pouviez inviter n'importe qui, vivant ou décédé, à dîner, qui inviteriez-vous? Faites une liste comprenant au moins trois personnes que vous aimeriez inviter à dîner. Utilisez ensuite votre liste pour imprimer un message à chaque personne, l'invitant à dîner.\n",
    "\n",
    "## **Exercice 2-2 : Modification de la Liste d'Invités**\n",
    "\n",
    "Vous venez d'apprendre qu'un de vos invités ne peut pas venir au dîner, vous devez donc envoyer un nouvel ensemble d'invitations. Vous devrez penser à quelqu'un d'autre à inviter.\n",
    "\n",
    "Commencez avec votre programme de l'exercice 3-4. Ajoutez un appel `print()` à la fin de votre programme indiquant le nom de l'invité qui ne peut pas venir.\n",
    "Modifiez votre liste en remplaçant le nom de l'invité qui ne peut pas venir par le nom de la nouvelle personne que vous invitez.\n",
    "Imprimez un deuxième ensemble de messages d'invitation, un pour chaque personne qui est toujours dans votre liste.1\n",
    "\n",
    "## **Exercice 2-3. Plus d'Invités:**\n",
    "\n",
    "Vous venez de trouver une plus grande table à manger, vous avez donc plus de place disponible. Pensez à trois autres invités à inviter à dîner.\n",
    "\n",
    "Commencez avec votre programme de l'exercice 3-4 ou 3-5. Ajoutez un appel `print()` à la fin de votre programme informant les gens que vous avez trouvé une plus grande table à manger.\n",
    "\n",
    "Utilisez `insert()` pour ajouter un nouvel invité au début de votre liste.\n",
    "Utilisez `insert()` pour ajouter un nouvel invité au milieu de votre liste.\n",
    "Utilisez `append()` pour ajouter un nouvel invité à la fin de votre liste.\n",
    "Imprimez un nouvel ensemble de messages d'invitation, un pour chaque personne dans votre liste.\n",
    "## **Exercice 2-4. Liste d'Invités Rétrécie:**\n",
    "\n",
    "Vous venez d'apprendre que votre nouvelle table à manger n'arrivera pas à temps pour le dîner, et vous n'avez de la place que pour deux invités.\n",
    "\n",
    "Commencez avec votre programme de l'exercice 3-6. Ajoutez une nouvelle ligne qui imprime un message disant que vous ne pouvez inviter que deux personnes pour le dîner.\n",
    "\n",
    "Utilisez `pop()` pour supprimer des invités de votre liste un par un jusqu'à ce qu'il ne reste que deux noms dans votre liste. Chaque fois que vous retirez un nom de votre liste, imprimez un message à cette personne en lui disant que vous êtes désolé de ne pas pouvoir l'inviter à dîner.\n",
    "\n",
    "Imprimez un message à chacune des deux personnes toujours sur votre liste, en leur faisant savoir qu'elles sont toujours invitées.\n",
    "Utilisez del pour supprimer les deux derniers noms de votre liste, afin d'avoir une liste vide. Imprimez votre liste pour vous assurer que vous avez effectivement une liste vide à la fin de votre programme."
   ]
  },
  {
   "cell_type": "markdown",
   "metadata": {
    "id": "m89jonSBrAZN"
   },
   "source": [
    "## **Correction**\n",
    "## Exercice 2-1 : Liste d'invités\n",
    "\n",
    "```python\n",
    "invites = [\"Albert Einstein\", \"Marie Curie\", \"Leonardo da Vinci\"]\n",
    "\n",
    "print(f\"Cher {invites[0]}, j'aimerais vous inviter à dîner. Ce serait un honneur de partager ce moment avec vous.\")\n",
    "print(f\"Chère {invites[1]}, j'aimerais vous inviter à dîner. Ce serait un honneur de partager ce moment avec vous.\")\n",
    "print(f\"Cher {invites[2]}, j'aimerais vous inviter à dîner. Ce serait un honneur de partager ce moment avec vous.\")\n",
    "```\n",
    "\n",
    "## Exercice 2-2 : Modification de la Liste d'Invités\n",
    "\n",
    "```python\n",
    "invites = [\"Albert Einstein\", \"Marie Curie\", \"Leonardo da Vinci\"]\n",
    "\n",
    "print(f\"Cher {invites[0]}, j'aimerais vous inviter à dîner. Ce serait un honneur de partager ce moment avec vous.\")\n",
    "print(f\"Chère {invites[1]}, j'aimerais vous inviter à dîner. Ce serait un honneur de partager ce moment avec vous.\")\n",
    "print(f\"Cher {invites[2]}, j'aimerais vous inviter à dîner. Ce serait un honneur de partager ce moment avec vous.\")\n",
    "\n",
    "print(f\"\\nMalheureusement, {invites[1]} ne peut pas venir au dîner.\")\n",
    "\n",
    "invites[1] = \"Isaac Newton\"\n",
    "\n",
    "print(\"\\nNouvelles invitations :\")\n",
    "print(f\"Cher {invites[0]}, j'aimerais vous inviter à dîner. Ce serait un honneur de partager ce moment avec vous.\")\n",
    "print(f\"Cher {invites[1]}, j'aimerais vous inviter à dîner. Ce serait un honneur de partager ce moment avec vous.\")\n",
    "print(f\"Cher {invites[2]}, j'aimerais vous inviter à dîner. Ce serait un honneur de partager ce moment avec vous.\")\n",
    "```\n",
    "\n",
    "## Exercice 2-3 : Plus d'Invités\n",
    "\n",
    "```python\n",
    "invites = [\"Albert Einstein\", \"Isaac Newton\", \"Leonardo da Vinci\"]\n",
    "\n",
    "print(\"Bonne nouvelle ! Nous avons trouvé une plus grande table à manger.\")\n",
    "\n",
    "invites.insert(0, \"Nikola Tesla\")\n",
    "invites.insert(2, \"Galileo Galilei\")\n",
    "invites.append(\"Stephen Hawking\")\n",
    "\n",
    "print(f\"Cher {invites[0]}, j'aimerais vous inviter à dîner. Ce serait un honneur de partager ce moment avec vous.\")\n",
    "print(f\"Cher {invites[1]}, j'aimerais vous inviter à dîner. Ce serait un honneur de partager ce moment avec vous.\")\n",
    "print(f\"Cher {invites[2]}, j'aimerais vous inviter à dîner. Ce serait un honneur de partager ce moment avec vous.\")\n",
    "print(f\"Cher {invites[3]}, j'aimerais vous inviter à dîner. Ce serait un honneur de partager ce moment avec vous.\")\n",
    "print(f\"Cher {invites[4]}, j'aimerais vous inviter à dîner. Ce serait un honneur de partager ce moment avec vous.\")\n",
    "print(f\"Cher {invites[5]}, j'aimerais vous inviter à dîner. Ce serait un honneur de partager ce moment avec vous.\")\n",
    "```\n",
    "\n",
    "## Exercice 2-4 : Liste d'Invités Rétrécie\n",
    "\n",
    "```python\n",
    "invites = [\"Nikola Tesla\", \"Albert Einstein\", \"Galileo Galilei\", \"Isaac Newton\", \"Leonardo da Vinci\", \"Stephen Hawking\"]\n",
    "\n",
    "print(\"Désolé, la nouvelle table n'arrivera pas à temps. Nous ne pouvons inviter que deux personnes pour le dîner.\")\n",
    "\n",
    "invite_retire = invites.pop()\n",
    "print(f\"Désolé {invite_retire}, nous ne pouvons pas vous inviter au dîner.\")\n",
    "\n",
    "invite_retire = invites.pop()\n",
    "print(f\"Désolé {invite_retire}, nous ne pouvons pas vous inviter au dîner.\")\n",
    "\n",
    "invite_retire = invites.pop()\n",
    "print(f\"Désolé {invite_retire}, nous ne pouvons pas vous inviter au dîner.\")\n",
    "\n",
    "invite_retire = invites.pop()\n",
    "print(f\"Désolé {invite_retire}, nous ne pouvons pas vous inviter au dîner.\")\n",
    "\n",
    "print(f\"Cher {invites[0]}, vous êtes toujours invité au dîner.\")\n",
    "print(f\"Cher {invites[1]}, vous êtes toujours invité au dîner.\")\n",
    "\n",
    "del invites[:]\n",
    "print(\"Liste d'invités finale :\", invites)\n",
    "```"
   ]
  },
  {
   "cell_type": "markdown",
   "metadata": {
    "id": "8NA7KsSEr12F"
   },
   "source": [
    "## Organiser une Liste\n",
    "\n",
    "Souvent, vos listes seront créées dans un ordre imprévisible, car vous ne pouvez pas toujours contrôler la manière dont vos utilisateurs fournissent leurs données. Bien que cela soit inévitable dans la plupart des circonstances, vous voudrez souvent présenter vos informations dans un ordre particulier. Parfois, vous voudrez conserver l'ordre original de votre liste, et d'autres fois, vous souhaiterez modifier l'ordre initial. Python offre plusieurs façons d'organiser vos listes, selon la situation.\n",
    "\n",
    "### Trier une Liste de Manière Permanente avec la Méthode `sort()`\n",
    "\n",
    "La méthode `sort()` de Python permet de trier facilement une liste. Imaginez que nous ayons une liste de voitures et que nous souhaitions changer l'ordre pour les classer par ordre alphabétique. Pour simplifier la tâche, supposons que toutes les valeurs de la liste soient en minuscules."
   ]
  },
  {
   "cell_type": "code",
   "execution_count": null,
   "metadata": {
    "colab": {
     "base_uri": "https://localhost:8080/"
    },
    "executionInfo": {
     "elapsed": 407,
     "status": "ok",
     "timestamp": 1725833544932,
     "user": {
      "displayName": "brice brice",
      "userId": "11421884799473561185"
     },
     "user_tz": -60
    },
    "id": "de5_hp8FsaAk",
    "outputId": "eda3fb7e-7db0-4325-c576-e8ed1e58f13f"
   },
   "outputs": [
    {
     "name": "stdout",
     "output_type": "stream",
     "text": [
      "['audi', 'bmw', 'subaru', 'toyota']\n"
     ]
    }
   ],
   "source": [
    "cars = ['bmw', 'audi', 'toyota', 'subaru']\n",
    "cars.sort()\n",
    "print(cars)"
   ]
  },
  {
   "cell_type": "markdown",
   "metadata": {
    "id": "KBEcspDTskMW"
   },
   "source": [
    "La méthode `sort()` modifie l'ordre de la liste de manière permanente. Les voitures sont maintenant classées par ordre alphabétique, et nous ne pouvons plus revenir à l'ordre d'origine:\n",
    "\n",
    "['audi', 'bmw', 'subaru', 'toyota']"
   ]
  },
  {
   "cell_type": "markdown",
   "metadata": {
    "id": "1Gw_YsWusuNZ"
   },
   "source": [
    "Vous pouvez également trier cette liste en ordre alphabétique inversé en passant l'argument reverse=True à la méthode sort(). L'exemple suivant trie la liste des voitures en ordre alphabétique inverse:"
   ]
  },
  {
   "cell_type": "code",
   "execution_count": null,
   "metadata": {
    "colab": {
     "base_uri": "https://localhost:8080/"
    },
    "executionInfo": {
     "elapsed": 410,
     "status": "ok",
     "timestamp": 1725833636459,
     "user": {
      "displayName": "brice brice",
      "userId": "11421884799473561185"
     },
     "user_tz": -60
    },
    "id": "zvftGGyRsgFp",
    "outputId": "e56b4de9-f904-4dd6-e3d7-c51502f06d33"
   },
   "outputs": [
    {
     "name": "stdout",
     "output_type": "stream",
     "text": [
      "['toyota', 'subaru', 'bmw', 'audi']\n"
     ]
    }
   ],
   "source": [
    "cars = ['bmw', 'audi', 'toyota', 'subaru']\n",
    "cars.sort(reverse=True)\n",
    "print(cars)"
   ]
  },
  {
   "cell_type": "markdown",
   "metadata": {
    "id": "nWdrqmbOs7Sc"
   },
   "source": [
    "# **Trier une Liste Temporairement avec la Fonction sorted()**\n",
    "Pour conserver l'ordre original d'une liste tout en la présentant de manière triée, vous pouvez utiliser la fonction sorted(). Cette fonction vous permet d'afficher votre liste dans un certain ordre sans affecter l'ordre réel de la liste.\n",
    "\n",
    "Essayons cette fonction sur la liste des voitures:"
   ]
  },
  {
   "cell_type": "code",
   "execution_count": null,
   "metadata": {
    "colab": {
     "base_uri": "https://localhost:8080/"
    },
    "executionInfo": {
     "elapsed": 435,
     "status": "ok",
     "timestamp": 1725833784969,
     "user": {
      "displayName": "brice brice",
      "userId": "11421884799473561185"
     },
     "user_tz": -60
    },
    "id": "6zwms1Vcs2be",
    "outputId": "78cce988-c201-4121-eb64-3298dd6d2dff"
   },
   "outputs": [
    {
     "name": "stdout",
     "output_type": "stream",
     "text": [
      "Voici la liste originale:\n",
      "['bmw', 'audi', 'toyota', 'subaru']\n",
      "\n",
      "Voici la liste triée:\n",
      "['audi', 'bmw', 'subaru', 'toyota']\n",
      "\n",
      "Voici de nouveau la liste originale:\n",
      "['bmw', 'audi', 'toyota', 'subaru']\n"
     ]
    }
   ],
   "source": [
    "cars = ['bmw', 'audi', 'toyota', 'subaru']\n",
    "print(\"Voici la liste originale:\")\n",
    "print(cars)\n",
    "\n",
    "print(\"\\nVoici la liste triée:\")\n",
    "print(sorted(cars))\n",
    "\n",
    "print(\"\\nVoici de nouveau la liste originale:\")\n",
    "print(cars)"
   ]
  },
  {
   "cell_type": "markdown",
   "metadata": {
    "id": "79HswhqXtjnZ"
   },
   "source": [
    "# **Afficher une Liste dans un Ordre Inversé**\n",
    "Pour inverser l'ordre original d'une liste, vous pouvez utiliser la méthode `reverse()`. Si nous avons initialement stocké la liste des voitures dans l'ordre chronologique selon le moment où nous les avons possédées, nous pourrions facilement réorganiser la liste dans un ordre chronologique inverse:"
   ]
  },
  {
   "cell_type": "code",
   "execution_count": null,
   "metadata": {
    "colab": {
     "base_uri": "https://localhost:8080/"
    },
    "executionInfo": {
     "elapsed": 537,
     "status": "ok",
     "timestamp": 1725833871729,
     "user": {
      "displayName": "brice brice",
      "userId": "11421884799473561185"
     },
     "user_tz": -60
    },
    "id": "Izc489z6tYPk",
    "outputId": "29a9c1fe-0e93-4f0c-cff2-a7a3434e3cce"
   },
   "outputs": [
    {
     "name": "stdout",
     "output_type": "stream",
     "text": [
      "['bmw', 'audi', 'toyota', 'subaru']\n",
      "['subaru', 'toyota', 'audi', 'bmw']\n"
     ]
    }
   ],
   "source": [
    "cars = ['bmw', 'audi', 'toyota', 'subaru']\n",
    "print(cars)\n",
    "\n",
    "cars.reverse()\n",
    "print(cars)"
   ]
  },
  {
   "cell_type": "markdown",
   "metadata": {
    "id": "0UXQ3RD2t_NZ"
   },
   "source": [
    "La méthode `reverse()` change de manière permanente l'ordre d'une liste, mais vous pouvez revenir à l'ordre original à tout moment en appliquant reverse() une seconde fois à la même liste.\n",
    "\n",
    "# **Trouver la Longueur d'une Liste**\n",
    "Vous pouvez rapidement trouver la longueur d'une liste en utilisant la fonction `len()`. La liste dans cet exemple comporte quatre éléments, donc sa longueur est de 4:"
   ]
  },
  {
   "cell_type": "code",
   "execution_count": null,
   "metadata": {
    "colab": {
     "base_uri": "https://localhost:8080/"
    },
    "executionInfo": {
     "elapsed": 428,
     "status": "ok",
     "timestamp": 1725834404943,
     "user": {
      "displayName": "brice brice",
      "userId": "11421884799473561185"
     },
     "user_tz": -60
    },
    "id": "gPriu8sRtv0H",
    "outputId": "7c4d38a4-89fd-4c3c-e09c-c1264164140c"
   },
   "outputs": [
    {
     "data": {
      "text/plain": [
       "4"
      ]
     },
     "execution_count": 34,
     "metadata": {},
     "output_type": "execute_result"
    }
   ],
   "source": [
    "len(cars)"
   ]
  },
  {
   "cell_type": "markdown",
   "metadata": {
    "id": "hfKgnmzYunH4"
   },
   "source": [
    "# **Exercices**\n",
    "## **Exercice 3-8 : Voir le Monde**\n",
    "\n",
    "- Pensez à au moins cinq endroits dans le monde que vous aimeriez visiter.\n",
    "- Stockez ces lieux dans une liste. Assurez-vous que la liste n'est pas dans l'ordre alphabétique.\n",
    "- Affichez votre liste dans son ordre original.\n",
    "- Utilisez `sorted()` pour afficher votre liste dans l'ordre alphabétique, sans modifier la liste originale.\n",
    "- Montrez que votre liste est toujours dans son ordre original.\n",
    "- Utilisez `reverse()` pour changer l'ordre de votre liste.\n",
    "- Utilisez `sort()` pour stocker définitivement votre liste dans l'ordre alphabétique.\n",
    "## **Exercice 3-9 : Invités au Dîner**\n",
    "\n",
    "Si vous pouviez inviter n'importe qui à dîner, qui inviteriez-vous ?\n",
    "\n",
    "Créez une liste avec au moins trois personnes que vous aimeriez inviter à dîner et affichez un message pour chaque personne."
   ]
  },
  {
   "cell_type": "markdown",
   "metadata": {
    "id": "KQLNB5ijvas6"
   },
   "source": [
    "## Exercice 3-8 : Voir le Monde\n",
    "\n",
    "```python\n",
    "# Création de la liste des lieux à visiter\n",
    "lieux = [\"Tokyo\", \"Machu Picchu\", \"Venise\", \"Santorini\", \"Yellowstone\"]\n",
    "\n",
    "# Affichage de la liste originale\n",
    "print(\"Liste originale:\")\n",
    "print(lieux)\n",
    "\n",
    "# Affichage de la liste triée sans modifier l'original\n",
    "print(\"\\nListe triée:\")\n",
    "print(sorted(lieux))\n",
    "\n",
    "# Vérification que la liste originale n'a pas changé\n",
    "print(\"\\nListe originale après tri:\")\n",
    "print(lieux)\n",
    "\n",
    "# Inversion de l'ordre de la liste\n",
    "lieux.reverse()\n",
    "print(\"\\nListe inversée:\")\n",
    "print(lieux)\n",
    "\n",
    "# Tri définitif de la liste\n",
    "lieux.sort()\n",
    "print(\"\\nListe triée définitivement:\")\n",
    "print(lieux)\n",
    "```\n",
    "\n",
    "## Exercice 3-9 : Invités au Dîner\n",
    "\n",
    "```python\n",
    "# Création de la liste des invités\n",
    "invites = [\"Marie Curie\", \"Albert Einstein\", \"Leonardo da Vinci\"]\n",
    "\n",
    "# Affichage des messages d'invitation\n",
    "print(f\"Chère {invites[0]}, j'aimerais vous inviter à dîner. Votre présence serait un honneur.\")\n",
    "print(f\"Cher {invites[1]}, j'aimerais vous inviter à dîner. Ce serait fascinant d'échanger avec vous.\")\n",
    "print(f\"Cher {invites[2]}, j'aimerais vous inviter à dîner. Votre créativité illuminerait notre soirée.\")\n",
    "```"
   ]
  },
  {
   "cell_type": "markdown",
   "metadata": {
    "collapsed": false
   },
   "source": [
    "```{tableofcontents}\n",
    "```"
   ]
  }
 ],
 "metadata": {
  "colab": {
   "authorship_tag": "ABX9TyNzuh76C/zQ7xlpOuS5s2my",
   "provenance": []
  },
  "kernelspec": {
   "display_name": "Python 3",
   "name": "python3"
  },
  "language_info": {
   "codemirror_mode": {
    "name": "ipython",
    "version": 3
   },
   "file_extension": ".py",
   "mimetype": "text/x-python",
   "name": "python",
   "nbconvert_exporter": "python",
   "pygments_lexer": "ipython3",
   "version": "3.11.9"
  }
 },
 "nbformat": 4,
 "nbformat_minor": 0
}